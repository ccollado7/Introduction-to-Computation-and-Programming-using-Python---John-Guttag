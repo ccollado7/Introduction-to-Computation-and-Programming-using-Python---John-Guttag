{
 "cells": [
  {
   "cell_type": "markdown",
   "metadata": {},
   "source": [
    "# 2.4 Iteration"
   ]
  },
  {
   "attachments": {
    "image.png": {
     "image/png": "[encoded data removed]"
    }
   },
   "cell_type": "markdown",
   "metadata": {},
   "source": [
    "El mecanismo de iteracion, tambien denominado \"looping\" se observa a continuacion:\n",
    "\n",
    "![image.png](attachment:image.png)"
   ]
  },
  {
   "cell_type": "markdown",
   "metadata": {},
   "source": [
    "De la misma forma que el condicional, la iteracion comienza con un TEST. Si el test es evaluado TRUE (verdadero) entonces se ejecuta una vez el cuerpo del loop y vuelve para reevaluar el test. Este proceso es repetido hasta que el test es evaluado FALSE (falso), momento en el cual el programa pasa a la parte del codigo que sigue a la iteracion"
   ]
  },
  {
   "cell_type": "code",
   "execution_count": 4,
   "metadata": {},
   "outputs": [
    {
     "name": "stdout",
     "output_type": "stream",
     "text": [
      "3*3=9\n"
     ]
    }
   ],
   "source": [
    "#Square an integer, the hard way\n",
    "\n",
    "x = 3\n",
    "ans = 0\n",
    "itersLeft = x\n",
    "while (itersLeft != 0):\n",
    "    ans = ans + x\n",
    "    itersLeft = itersLeft - 1\n",
    "print(str(x) + \"*\" + str(x) + \"=\" + str(ans))"
   ]
  },
  {
   "attachments": {
    "image.png": {
     "image/png": "[encoded data removed]"
    }
   },
   "cell_type": "markdown",
   "metadata": {},
   "source": [
    "![image.png](attachment:image.png)"
   ]
  },
  {
   "cell_type": "code",
   "execution_count": 8,
   "metadata": {},
   "outputs": [
    {
     "name": "stdout",
     "output_type": "stream",
     "text": [
      "0*0=0\n"
     ]
    }
   ],
   "source": [
    "#Condicion inicial 0. Se observa que el loop no se ejecuta ya que la condicion de while es FALSE\n",
    "x = 0\n",
    "ans = 0\n",
    "itersLeft = x\n",
    "while (itersLeft != 0):\n",
    "    ans = ans + x\n",
    "    itersLeft = itersLeft - 1\n",
    "print(str(x) + \"*\" + str(x) + \"=\" + str(ans))"
   ]
  },
  {
   "cell_type": "code",
   "execution_count": 9,
   "metadata": {},
   "outputs": [
    {
     "ename": "KeyboardInterrupt",
     "evalue": "",
     "output_type": "error",
     "traceback": [
      "\u001b[1;31m---------------------------------------------------------------------------\u001b[0m",
      "\u001b[1;31mKeyboardInterrupt\u001b[0m                         Traceback (most recent call last)",
      "\u001b[1;32m<ipython-input-9-93ab0d5f6d88>\u001b[0m in \u001b[0;36m<module>\u001b[1;34m()\u001b[0m\n\u001b[0;32m      4\u001b[0m \u001b[0mitersLeft\u001b[0m \u001b[1;33m=\u001b[0m \u001b[0mx\u001b[0m\u001b[1;33m\u001b[0m\u001b[0m\n\u001b[0;32m      5\u001b[0m \u001b[1;32mwhile\u001b[0m \u001b[1;33m(\u001b[0m\u001b[0mitersLeft\u001b[0m \u001b[1;33m!=\u001b[0m \u001b[1;36m0\u001b[0m\u001b[1;33m)\u001b[0m\u001b[1;33m:\u001b[0m\u001b[1;33m\u001b[0m\u001b[0m\n\u001b[1;32m----> 6\u001b[1;33m     \u001b[0mans\u001b[0m \u001b[1;33m=\u001b[0m \u001b[0mans\u001b[0m \u001b[1;33m+\u001b[0m \u001b[0mx\u001b[0m\u001b[1;33m\u001b[0m\u001b[0m\n\u001b[0m\u001b[0;32m      7\u001b[0m     \u001b[0mitersLeft\u001b[0m \u001b[1;33m=\u001b[0m \u001b[0mitersLeft\u001b[0m \u001b[1;33m-\u001b[0m \u001b[1;36m1\u001b[0m\u001b[1;33m\u001b[0m\u001b[0m\n\u001b[0;32m      8\u001b[0m \u001b[0mprint\u001b[0m\u001b[1;33m(\u001b[0m\u001b[0mstr\u001b[0m\u001b[1;33m(\u001b[0m\u001b[0mx\u001b[0m\u001b[1;33m)\u001b[0m \u001b[1;33m+\u001b[0m \u001b[1;34m\"*\"\u001b[0m \u001b[1;33m+\u001b[0m \u001b[0mstr\u001b[0m\u001b[1;33m(\u001b[0m\u001b[0mx\u001b[0m\u001b[1;33m)\u001b[0m \u001b[1;33m+\u001b[0m \u001b[1;34m\"=\"\u001b[0m \u001b[1;33m+\u001b[0m \u001b[0mstr\u001b[0m\u001b[1;33m(\u001b[0m\u001b[0mans\u001b[0m\u001b[1;33m)\u001b[0m\u001b[1;33m)\u001b[0m\u001b[1;33m\u001b[0m\u001b[0m\n",
      "\u001b[1;31mKeyboardInterrupt\u001b[0m: "
     ]
    }
   ],
   "source": [
    "#Condicion inicial -1. Se observa que el loop no deja de ejecutarse nunca ya que itersLeft se aleja cada vez mas de la condicion 0\n",
    "x = -1\n",
    "ans = 0\n",
    "itersLeft = x\n",
    "while (itersLeft != 0):\n",
    "    ans = ans + x\n",
    "    itersLeft = itersLeft - 1\n",
    "print(str(x) + \"*\" + str(x) + \"=\" + str(ans))"
   ]
  },
  {
   "cell_type": "code",
   "execution_count": 11,
   "metadata": {},
   "outputs": [
    {
     "name": "stdout",
     "output_type": "stream",
     "text": [
      "-1*-1=1\n"
     ]
    }
   ],
   "source": [
    "#Condicion inicial -1. Utilizo el valor absoluto y se corrije el error anterior\n",
    "x = -1\n",
    "ans = 0\n",
    "itersLeft = abs(x)\n",
    "while (itersLeft != 0):\n",
    "    ans = ans + abs(x)\n",
    "    itersLeft = itersLeft - 1\n",
    "print(str(x) + \"*\" + str(x) + \"=\" + str(ans))"
   ]
  },
  {
   "cell_type": "code",
   "execution_count": null,
   "metadata": {},
   "outputs": [],
   "source": []
  }
 ],
 "metadata": {
  "kernelspec": {
   "display_name": "Python 3",
   "language": "python",
   "name": "python3"
  },
  "language_info": {
   "codemirror_mode": {
    "name": "ipython",
    "version": 3
   },
   "file_extension": ".py",
   "mimetype": "text/x-python",
   "name": "python",
   "nbconvert_exporter": "python",
   "pygments_lexer": "ipython3",
   "version": "3.6.5"
  }
 },
 "nbformat": 4,
 "nbformat_minor": 2
}

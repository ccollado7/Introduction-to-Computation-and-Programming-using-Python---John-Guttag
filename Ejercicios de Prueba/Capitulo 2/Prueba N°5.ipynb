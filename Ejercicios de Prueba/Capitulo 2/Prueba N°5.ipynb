{
 "cells": [
  {
   "cell_type": "markdown",
   "metadata": {},
   "source": [
    "# Prueba N°5"
   ]
  },
  {
   "cell_type": "markdown",
   "metadata": {},
   "source": [
    "Imprime valores consecutivos en forma descendente"
   ]
  },
  {
   "cell_type": "code",
   "execution_count": 2,
   "metadata": {},
   "outputs": [
    {
     "name": "stdout",
     "output_type": "stream",
     "text": [
      "5\n",
      "4\n",
      "3\n",
      "2\n",
      "1\n"
     ]
    }
   ],
   "source": [
    "x=5\n",
    "while(x>0):\n",
    "    print(x)\n",
    "    x=x-1"
   ]
  },
  {
   "cell_type": "markdown",
   "metadata": {},
   "source": [
    "Imprime valores consecutivos en forma descendente (otra condicion)"
   ]
  },
  {
   "cell_type": "code",
   "execution_count": 3,
   "metadata": {},
   "outputs": [
    {
     "name": "stdout",
     "output_type": "stream",
     "text": [
      "10\n",
      "9\n",
      "8\n",
      "7\n",
      "6\n",
      "5\n",
      "4\n",
      "3\n",
      "2\n",
      "1\n"
     ]
    }
   ],
   "source": [
    "x=10\n",
    "while(x!=0):\n",
    "    print(x)\n",
    "    x=x-1"
   ]
  },
  {
   "cell_type": "markdown",
   "metadata": {},
   "source": [
    "Para numeros positivos imprime pares de valores hasta que alguno de los dos llega a cero"
   ]
  },
  {
   "cell_type": "code",
   "execution_count": 11,
   "metadata": {},
   "outputs": [
    {
     "name": "stdout",
     "output_type": "stream",
     "text": [
      "Ingrese un numero:3\n",
      "Ingrese otro numero7\n",
      "3\n",
      "7\n",
      "\n",
      "2\n",
      "6\n",
      "\n",
      "1\n",
      "5\n",
      "\n"
     ]
    }
   ],
   "source": [
    "x=int(input(\"Ingrese un numero:\"))\n",
    "y=int(input(\"Ingrese otro numero\"))\n",
    "if x>y:\n",
    "    while(x>y and x>0 and y>0):\n",
    "        print(x)\n",
    "        print(y)\n",
    "        print()\n",
    "        x=x-1\n",
    "        y=y-1\n",
    "else:\n",
    "    while(x<y and x>0 and y>0):\n",
    "        print(x)\n",
    "        print(y)\n",
    "        print()\n",
    "        x=x-1\n",
    "        y=y-1"
   ]
  }
 ],
 "metadata": {
  "kernelspec": {
   "display_name": "Python 3",
   "language": "python",
   "name": "python3"
  },
  "language_info": {
   "codemirror_mode": {
    "name": "ipython",
    "version": 3
   },
   "file_extension": ".py",
   "mimetype": "text/x-python",
   "name": "python",
   "nbconvert_exporter": "python",
   "pygments_lexer": "ipython3",
   "version": "3.7.1"
  }
 },
 "nbformat": 4,
 "nbformat_minor": 2
}

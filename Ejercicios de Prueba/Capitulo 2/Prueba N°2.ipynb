{
 "cells": [
  {
   "cell_type": "markdown",
   "metadata": {},
   "source": [
    "# Prueba N°2"
   ]
  },
  {
   "cell_type": "markdown",
   "metadata": {},
   "source": [
    "De dos numeros ingresados se identifica cual de los dos es mayor o si son iguales"
   ]
  },
  {
   "cell_type": "code",
   "execution_count": 9,
   "metadata": {},
   "outputs": [
    {
     "name": "stdout",
     "output_type": "stream",
     "text": [
      "Ingrese un numero:12\n",
      "Ingrese otro numero:12\n",
      "El numero 12.0 es igual que el numero 12.0\n"
     ]
    }
   ],
   "source": [
    "a = float(input(\"Ingrese un numero:\"))\n",
    "b = float(input(\"Ingrese otro numero:\"))\n",
    "if a < b:\n",
    "    print(\"El numero\", b , \"es mayor que el numero\", a)\n",
    "elif a == b:\n",
    "    print(\"El numero\", a , \"es igual que el numero\", b)\n",
    "else:\n",
    "    print(\"El numero\", a , \"es mayor que el numero\", b)"
   ]
  }
 ],
 "metadata": {
  "kernelspec": {
   "display_name": "Python 3",
   "language": "python",
   "name": "python3"
  },
  "language_info": {
   "codemirror_mode": {
    "name": "ipython",
    "version": 3
   },
   "file_extension": ".py",
   "mimetype": "text/x-python",
   "name": "python",
   "nbconvert_exporter": "python",
   "pygments_lexer": "ipython3",
   "version": "3.7.1"
  }
 },
 "nbformat": 4,
 "nbformat_minor": 2
}

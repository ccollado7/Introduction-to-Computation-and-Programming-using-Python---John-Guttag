{
 "cells": [
  {
   "cell_type": "markdown",
   "metadata": {},
   "source": [
    "# Prueba N°4"
   ]
  },
  {
   "cell_type": "markdown",
   "metadata": {},
   "source": [
    "Se implementan las funciones logicas AND y OR"
   ]
  },
  {
   "cell_type": "code",
   "execution_count": 11,
   "metadata": {},
   "outputs": [
    {
     "name": "stdout",
     "output_type": "stream",
     "text": [
      "Ingrese la funcion logica que desea utilizar(and/or):and\n",
      "Ingrese el 1° valor logico:0\n",
      "Ingrese el 2° valor logico:0\n",
      "La funcion seleccionada es and y el resultado de la operacion es False\n"
     ]
    }
   ],
   "source": [
    "func = str(input(\"Ingrese la funcion logica que desea utilizar(and/or):\"))\n",
    "a = int(input(\"Ingrese el 1° valor logico:\"))\n",
    "b = int(input(\"Ingrese el 2° valor logico:\"))\n",
    "\n",
    "if func==\"and\":\n",
    "    if a==1 and b==1:\n",
    "        rest = \"True\"\n",
    "        print(\"La funcion seleccionada es\", func, \"y el resultado de la operacion es\", rest)\n",
    "    elif a==1 and b==0:\n",
    "        rest = \"False\"\n",
    "        print(\"La funcion seleccionada es\", func, \"y el resultado de la operacion es\", rest)\n",
    "    elif a==0 and b==1:\n",
    "        rest = \"False\"\n",
    "        print(\"La funcion seleccionada es\", func, \"y el resultado de la operacion es\", rest)\n",
    "    else:\n",
    "        rest=\"False\"\n",
    "        print (\"La funcion seleccionada es\", func, \"y el resultado de la operacion es\", rest)\n",
    "else:\n",
    "    func=\"or\"\n",
    "    if a==1 and b==1:\n",
    "        rest = \"True\"\n",
    "        print(\"La funcion seleccionada es\", func, \"y el resultado de la operacion es\", rest)\n",
    "    elif a==1 and b==0:\n",
    "        rest = \"True\"\n",
    "        print(\"La funcion seleccionada es\", func, \"y el resultado de la operacion es\", rest)\n",
    "    elif a==0 and b==1:\n",
    "        rest = \"True\"\n",
    "        print(\"La funcion seleccionada es\", func, \"y el resultado de la operacion es\", rest)\n",
    "    else:\n",
    "        rest=\"False\"\n",
    "        print (\"La funcion seleccionada es\", func, \"y el resultado de la operacion es\", rest)"
   ]
  }
 ],
 "metadata": {
  "kernelspec": {
   "display_name": "Python 3",
   "language": "python",
   "name": "python3"
  },
  "language_info": {
   "codemirror_mode": {
    "name": "ipython",
    "version": 3
   },
   "file_extension": ".py",
   "mimetype": "text/x-python",
   "name": "python",
   "nbconvert_exporter": "python",
   "pygments_lexer": "ipython3",
   "version": "3.7.1"
  }
 },
 "nbformat": 4,
 "nbformat_minor": 2
}

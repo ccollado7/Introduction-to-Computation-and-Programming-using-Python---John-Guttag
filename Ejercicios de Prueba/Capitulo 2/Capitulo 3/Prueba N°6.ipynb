{
 "cells": [
  {
   "cell_type": "markdown",
   "metadata": {},
   "source": [
    "# Prueba N°6"
   ]
  },
  {
   "cell_type": "code",
   "execution_count": 7,
   "metadata": {},
   "outputs": [
    {
     "name": "stdout",
     "output_type": "stream",
     "text": [
      "Ingrese su nombre:claudio\n",
      "Ingrese su apellido:collado\n",
      "Ingrese su DNI:31161201\n",
      "Desea grabar los datos en la lista (s/n):n\n",
      "Los datos no fueron guardados\n"
     ]
    }
   ],
   "source": [
    "list = []\n",
    "nombre = str(input(\"Ingrese su nombre:\"))\n",
    "apellido = str(input(\"Ingrese su apellido:\"))\n",
    "dni = int(input(\"Ingrese su DNI:\"))\n",
    "ingresar = str(input(\"Desea grabar los datos en la lista (s/n):\"))\n",
    "if ingresar == \"s\":\n",
    "    list.append(nombre)\n",
    "    list.append(apellido)\n",
    "    list.append(dni)\n",
    "    print(list)\n",
    "    print(\"Los datos fueron guardados\")\n",
    "else:\n",
    "    print(\"Los datos no fueron guardados\")"
   ]
  },
  {
   "cell_type": "code",
   "execution_count": null,
   "metadata": {},
   "outputs": [],
   "source": []
  }
 ],
 "metadata": {
  "kernelspec": {
   "display_name": "Python 3",
   "language": "python",
   "name": "python3"
  },
  "language_info": {
   "codemirror_mode": {
    "name": "ipython",
    "version": 3
   },
   "file_extension": ".py",
   "mimetype": "text/x-python",
   "name": "python",
   "nbconvert_exporter": "python",
   "pygments_lexer": "ipython3",
   "version": "3.7.1"
  }
 },
 "nbformat": 4,
 "nbformat_minor": 2
}

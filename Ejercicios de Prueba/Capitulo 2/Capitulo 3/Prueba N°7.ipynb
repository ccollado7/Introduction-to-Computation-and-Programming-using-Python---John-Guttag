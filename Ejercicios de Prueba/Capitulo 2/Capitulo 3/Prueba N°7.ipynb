{
 "cells": [
  {
   "cell_type": "markdown",
   "metadata": {},
   "source": [
    "# Prueba N°7"
   ]
  },
  {
   "cell_type": "code",
   "execution_count": 12,
   "metadata": {},
   "outputs": [
    {
     "name": "stdout",
     "output_type": "stream",
     "text": [
      "Ingrese su nombre:claudio\n",
      "Ingrese un numero entero de largo igual a la cantidad de letras de su nombre:1234567\n",
      "{'c': '7', 'l': '7', 'a': '7', 'u': '7', 'd': '7', 'i': '7', 'o': '7'}\n"
     ]
    }
   ],
   "source": [
    "dicc = {} \n",
    "name = str(input(\"Ingrese su nombre:\"))\n",
    "numero = str(input(\"Ingrese un numero entero de largo igual a la cantidad de letras de su nombre:\"))\n",
    "\n",
    "for l in name:\n",
    "    for m in numero:\n",
    "        dicc.update({l:m})\n",
    "print(dicc)"
   ]
  },
  {
   "cell_type": "code",
   "execution_count": 13,
   "metadata": {},
   "outputs": [
    {
     "name": "stdout",
     "output_type": "stream",
     "text": [
      "Ingrese su nombre:claudio\n",
      "Ingrese un numero entero de largo igual a la cantidad de letras de su nombre:1234567\n",
      "{'c': '7'}\n",
      "{'c': '7', 'l': '7'}\n",
      "{'c': '7', 'l': '7', 'a': '7'}\n",
      "{'c': '7', 'l': '7', 'a': '7', 'u': '7'}\n",
      "{'c': '7', 'l': '7', 'a': '7', 'u': '7', 'd': '7'}\n",
      "{'c': '7', 'l': '7', 'a': '7', 'u': '7', 'd': '7', 'i': '7'}\n",
      "{'c': '7', 'l': '7', 'a': '7', 'u': '7', 'd': '7', 'i': '7', 'o': '7'}\n"
     ]
    }
   ],
   "source": [
    "dicc = {} \n",
    "name = str(input(\"Ingrese su nombre:\"))\n",
    "numero = str(input(\"Ingrese un numero entero de largo igual a la cantidad de letras de su nombre:\"))\n",
    "\n",
    "for l in name:\n",
    "    for m in numero:\n",
    "        dicc.update({l:m})\n",
    "    print(dicc)"
   ]
  },
  {
   "cell_type": "code",
   "execution_count": null,
   "metadata": {},
   "outputs": [],
   "source": []
  }
 ],
 "metadata": {
  "kernelspec": {
   "display_name": "Python 3",
   "language": "python",
   "name": "python3"
  },
  "language_info": {
   "codemirror_mode": {
    "name": "ipython",
    "version": 3
   },
   "file_extension": ".py",
   "mimetype": "text/x-python",
   "name": "python",
   "nbconvert_exporter": "python",
   "pygments_lexer": "ipython3",
   "version": "3.7.1"
  }
 },
 "nbformat": 4,
 "nbformat_minor": 2
}

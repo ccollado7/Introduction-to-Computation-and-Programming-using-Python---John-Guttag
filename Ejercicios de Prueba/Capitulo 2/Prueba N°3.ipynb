{
 "cells": [
  {
   "cell_type": "markdown",
   "metadata": {},
   "source": [
    "# Prueba N°3"
   ]
  },
  {
   "cell_type": "markdown",
   "metadata": {},
   "source": [
    "Se pretende determinar si el valor ingresado es un booleano True/False o ninguno de los anteriores"
   ]
  },
  {
   "cell_type": "code",
   "execution_count": 10,
   "metadata": {},
   "outputs": [
    {
     "name": "stdout",
     "output_type": "stream",
     "text": [
      "Ingrese un valor booleano 0 o 1:23\n",
      "El valor ingresado no corresponde a un booleano\n"
     ]
    }
   ],
   "source": [
    "a = int(input(\"Ingrese un valor booleano 0 o 1:\"))\n",
    "if a == 1:\n",
    "    print(\"El valor ingresado corresponde a True\")\n",
    "elif a!= 0 and a!= 1:\n",
    "    print(\"El valor ingresado no corresponde a un booleano\")\n",
    "else:\n",
    "    print(\"El valor ingresado corresponde a False\")"
   ]
  }
 ],
 "metadata": {
  "kernelspec": {
   "display_name": "Python 3",
   "language": "python",
   "name": "python3"
  },
  "language_info": {
   "codemirror_mode": {
    "name": "ipython",
    "version": 3
   },
   "file_extension": ".py",
   "mimetype": "text/x-python",
   "name": "python",
   "nbconvert_exporter": "python",
   "pygments_lexer": "ipython3",
   "version": "3.7.1"
  }
 },
 "nbformat": 4,
 "nbformat_minor": 2
}

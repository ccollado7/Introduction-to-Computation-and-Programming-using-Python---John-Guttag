{
 "cells": [
  {
   "cell_type": "markdown",
   "metadata": {},
   "source": [
    "# 3.2 Foor Loop"
   ]
  },
  {
   "cell_type": "markdown",
   "metadata": {},
   "source": [
    "El loop while utilizado previamente es altamente ESTILIZADO. Itera sobre una secuencia de enteros.\n",
    "\n",
    "Python provee un mecanismo en el lenguaje, el loop FOR, que puede ser utilizando para simplificar programas que contienen iteraciones.La sentencia tine la forma:\n",
    "\n",
    "\n",
    "    for variable in sequence:\n",
    "\n",
    "        code block"
   ]
  },
  {
   "cell_type": "markdown",
   "metadata": {},
   "source": [
    "\"varibale\" es asiganada al primer valor de \"sequence\" y el bloque de codigo es ejecutado. \"variable\" es nuevamente asignada al segundo valor de \"sequence\" y el bloque de codigo es ejecutado nuevamente. El proceso continua hasta que \"sequence\" se termina o una secuencia BREAK es ejecutada en el bloque de codigo"
   ]
  },
  {
   "cell_type": "markdown",
   "metadata": {},
   "source": [
    "La secuencia de valores \"sequence\" que se une a \"variable\" es comunmente generada utilizando la funcion RANGE, la cual retorna una secuencia conteniendo una progresion aritmetica:\n",
    "\n",
    "range(start,stop,step)"
   ]
  },
  {
   "cell_type": "code",
   "execution_count": 3,
   "metadata": {},
   "outputs": [
    {
     "data": {
      "text/plain": [
       "range(5, 40, 10)"
      ]
     },
     "execution_count": 3,
     "metadata": {},
     "output_type": "execute_result"
    }
   ],
   "source": [
    "range(5,40,10)"
   ]
  },
  {
   "cell_type": "code",
   "execution_count": 4,
   "metadata": {},
   "outputs": [
    {
     "data": {
      "text/plain": [
       "range(40, 5, -10)"
      ]
     },
     "execution_count": 4,
     "metadata": {},
     "output_type": "execute_result"
    }
   ],
   "source": [
    "range(40,5,-10)"
   ]
  },
  {
   "cell_type": "code",
   "execution_count": 5,
   "metadata": {},
   "outputs": [
    {
     "name": "stdout",
     "output_type": "stream",
     "text": [
      "0\n",
      "1\n",
      "2\n",
      "3\n"
     ]
    }
   ],
   "source": [
    "x = 4\n",
    "for i in range(0,x):\n",
    "    print(i)"
   ]
  },
  {
   "cell_type": "code",
   "execution_count": 6,
   "metadata": {},
   "outputs": [
    {
     "name": "stdout",
     "output_type": "stream",
     "text": [
      "0\n",
      "1\n",
      "2\n",
      "3\n"
     ]
    }
   ],
   "source": [
    "x = 4\n",
    "for i in range(0,x):\n",
    "    print(i)\n",
    "    x = 5"
   ]
  },
  {
   "cell_type": "markdown",
   "metadata": {},
   "source": [
    "Segun se observa el ultimo ejemplo la modificacion del valor de x dentro del loop NO AFECTA la cantidad de iteracciones que se realizaran.\n",
    "La funcion range que se encuentra en la linea de for es evaluada justo antes de la primera iteracion en el loop y no es reevaluada para subsecuentes iteraciones"
   ]
  },
  {
   "cell_type": "code",
   "execution_count": 8,
   "metadata": {},
   "outputs": [
    {
     "name": "stdout",
     "output_type": "stream",
     "text": [
      "0\n",
      "1\n",
      "2\n",
      "3\n",
      "0\n",
      "1\n",
      "0\n",
      "1\n",
      "0\n",
      "1\n"
     ]
    }
   ],
   "source": [
    "x = 4\n",
    "for j in range(x):\n",
    "    for i in range(x):\n",
    "        print (i)\n",
    "        x = 2"
   ]
  },
  {
   "attachments": {
    "image.png": {
     "image/png": "[encoded data removed]"
    }
   },
   "cell_type": "markdown",
   "metadata": {},
   "source": [
    "![image.png](attachment:image.png)"
   ]
  },
  {
   "cell_type": "markdown",
   "metadata": {},
   "source": [
    "El ejemplo a continuacion implementa el loop for en la primera etapa de forma tal de identificar el valor de ans candidato para ser cubo perfecto. Se utiliza la sentencia break para finalizar el loop cuando se cumpla la condicion ans**>abs(x)"
   ]
  },
  {
   "cell_type": "code",
   "execution_count": 2,
   "metadata": {},
   "outputs": [
    {
     "name": "stdout",
     "output_type": "stream",
     "text": [
      "Enter an integer:23\n",
      "23 is not a perfect cube\n"
     ]
    }
   ],
   "source": [
    "# Find the cube root of a perfect cube\n",
    "\n",
    "x = int(input(\"Enter an integer:\"))\n",
    "for ans in range(0,abs(x)+1):\n",
    "    if ans**3 >=abs(x):\n",
    "        break\n",
    "if ans**3 != abs(x):\n",
    "    print(x, \"is not a perfect cube\")\n",
    "else:\n",
    "    if x<0:\n",
    "        ans=-ans\n",
    "    print(\"Cube root of\", x , \"is\", ans)"
   ]
  },
  {
   "cell_type": "markdown",
   "metadata": {},
   "source": [
    "La sentencia break dentro del loop for causa que el loop termine antes que recorra cada elemento en la secuencia que tiene que iterar"
   ]
  },
  {
   "cell_type": "code",
   "execution_count": 3,
   "metadata": {},
   "outputs": [
    {
     "name": "stdout",
     "output_type": "stream",
     "text": [
      "45\n"
     ]
    }
   ],
   "source": [
    "total = 0\n",
    "for c in \"123456789\":\n",
    "    total = total + int(c)\n",
    "print(total)"
   ]
  },
  {
   "attachments": {
    "image.png": {
     "image/png": "[encoded data removed]"
    }
   },
   "cell_type": "markdown",
   "metadata": {},
   "source": [
    "![image.png](attachment:image.png)"
   ]
  }
 ],
 "metadata": {
  "kernelspec": {
   "display_name": "Python 3",
   "language": "python",
   "name": "python3"
  },
  "language_info": {
   "codemirror_mode": {
    "name": "ipython",
    "version": 3
   },
   "file_extension": ".py",
   "mimetype": "text/x-python",
   "name": "python",
   "nbconvert_exporter": "python",
   "pygments_lexer": "ipython3",
   "version": "3.7.1"
  }
 },
 "nbformat": 4,
 "nbformat_minor": 2
}
